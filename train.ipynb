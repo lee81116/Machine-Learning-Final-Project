{
 "cells": [
  {
   "cell_type": "code",
   "execution_count": 237,
   "metadata": {},
   "outputs": [],
   "source": [
    "import tensorflow as tf\n",
    "from tensorflow import keras\n",
    "from keras import layers"
   ]
  },
  {
   "cell_type": "code",
   "execution_count": 238,
   "metadata": {},
   "outputs": [],
   "source": [
    "import numpy as np\n",
    "import pandas as pd\n",
    "import os\n",
    "import matplotlib.pyplot as plt"
   ]
  },
  {
   "cell_type": "code",
   "execution_count": 239,
   "metadata": {},
   "outputs": [],
   "source": [
    "# Read file to pd dataframe\n",
    "train = pd.read_csv(\"data/train.csv\")\n",
    "test = pd.read_csv(\"data/test.csv\")\n",
    "# Get rid of \"id\" and \"product_code\"\n",
    "train = train.iloc[:train.shape[0], 2:train.shape[1]]\n",
    "test = test.iloc[:test.shape[0], 2:test.shape[1]]\n",
    "# Shuffle the training data\n",
    "train = train.reindex(np.random.permutation(train.index))"
   ]
  },
  {
   "cell_type": "code",
   "execution_count": 240,
   "metadata": {},
   "outputs": [],
   "source": [
    "# Map the value in attribute_0 and attribute_1\n",
    "attribute_0 = {\"material_5\": \"0\", \"material_7\": \"1\"}\n",
    "attribute_1 = {\"material_5\": \"0\", \"material_6\": \"1\",\n",
    "               \"material_7\": \"2\", \"material_8\": \"3\"}\n",
    "# Replace the value in attribute_0 and attribute_1\n",
    "train = train.replace({\"attribute_0\": attribute_0})\n",
    "train = train.replace({\"attribute_1\": attribute_1})\n",
    "test = test.replace({\"attribute_0\": attribute_0})\n",
    "test = test.replace({\"attribute_1\": attribute_1})\n",
    "# Change the column type from obejct to int\n",
    "train[\"attribute_0\"] = train[\"attribute_0\"].astype(int)\n",
    "train[\"attribute_1\"] = train[\"attribute_1\"].astype(int)\n",
    "test[\"attribute_0\"] = test[\"attribute_0\"].astype(int)\n",
    "test[\"attribute_1\"] = test[\"attribute_1\"].astype(int)"
   ]
  },
  {
   "cell_type": "code",
   "execution_count": 241,
   "metadata": {},
   "outputs": [],
   "source": [
    "# Add two new feature base on reference from discussion\n",
    "train[\"missing_measure_3\"] = train[\"measurement_3\"].isna()\n",
    "train[\"missing_measure_5\"] = train[\"measurement_5\"].isna()\n",
    "test[\"missing_measure_3\"] = test[\"measurement_3\"].isna()\n",
    "test[\"missing_measure_5\"] = test[\"measurement_5\"].isna()\n",
    "# Fill the Nan value with the average\n",
    "for i in train.columns:\n",
    "    null_cols=train[train[i].isna()].index\n",
    "    for n in null_cols:\n",
    "        train.loc[n,i]=train[i].mean()\n",
    "for i in test.columns:\n",
    "    null_cols = test[test[i].isna()].index\n",
    "    for n in null_cols:\n",
    "        test.loc[n,i]=test[i].mean()"
   ]
  },
  {
   "cell_type": "code",
   "execution_count": 242,
   "metadata": {},
   "outputs": [],
   "source": [
    "# Apply feature engineering from reference in discussion\n",
    "# Multiply length dimensions to get area. attributes 2 and 3 look like they are width and length dimensions or similar.\n",
    "# Aggregate measurement_3 to 16 into average and stdev. They look like they belong to the same group.\n",
    "def mean_3_to_16(row):\n",
    "    return row.iloc[9:20].mean()\n",
    "\n",
    "def std_3_to_16(row):\n",
    "    return row.iloc[9:20].std()\n",
    "\n",
    "def attri_multi(row):\n",
    "    return row.iloc[3] * row.iloc[4]\n",
    "\n",
    "train[\"measurement_std\"] = train.apply(lambda row : std_3_to_16(row), axis = 1)\n",
    "train['measurement_mean'] = train.apply(lambda row : mean_3_to_16(row), axis = 1)\n",
    "train['attri_2_attri_3'] = train.apply(lambda row : attri_multi(row), axis = 1)\n",
    "remain_col = [\"loading\", \"attribute_0\", \"attribute_1\", \"attri_2_attri_3\", \"measurement_0\",\n",
    "              \"measurement_1\", \"measurement_2\", \"measurement_17\", \"measurement_mean\", \"measurement_std\", \"missing_measure_3\", \"missing_measure_3\", \"failure\"]\n",
    "train = train[remain_col]\n",
    "\n",
    "test[\"measurement_std\"] = test.apply(lambda row: std_3_to_16(row), axis=1)\n",
    "test['measurement_mean'] = test.apply(lambda row: mean_3_to_16(row), axis=1)\n",
    "test['attri_2_attri_3'] = test.apply(lambda row: attri_multi(row), axis=1)\n",
    "remain_col = [\"loading\", \"attribute_0\", \"attribute_1\", \"attri_2_attri_3\", \"measurement_0\",\n",
    "              \"measurement_1\", \"measurement_2\", \"measurement_17\", \"measurement_mean\", \"measurement_std\", \"missing_measure_3\", \"missing_measure_3\"]\n",
    "test =test[remain_col]"
   ]
  },
  {
   "cell_type": "code",
   "execution_count": 243,
   "metadata": {},
   "outputs": [],
   "source": [
    "# Split the feature and target, also into training data and validation data\n",
    "train_size = 0.9\n",
    "x_train = train.iloc[:int(train.shape[0] *train_size), :train.shape[1] - 1].values\n",
    "y_train = train.iloc[:int(train.shape[0] *train_size), train.shape[1] - 1:].values\n",
    "x_valid = train.iloc[int(train.shape[0] * train_size):, :train.shape[1] - 1].values\n",
    "y_valid = train.iloc[int(train.shape[0] * train_size):, train.shape[1] - 1:].values"
   ]
  },
  {
   "cell_type": "code",
   "execution_count": 245,
   "metadata": {},
   "outputs": [],
   "source": [
    "x_train = x_train.tolist()\n",
    "y_train = y_train.tolist()\n",
    "x_valid = x_valid.tolist()\n",
    "y_valid = y_valid.tolist()"
   ]
  },
  {
   "cell_type": "code",
   "execution_count": 249,
   "metadata": {},
   "outputs": [],
   "source": [
    "def encode_single_sample(features, label):\n",
    "    features = np.reshape(features, (12,))\n",
    "    return {\"features\": features, \"label\": label}\n",
    "\n",
    "batch_size = 50\n",
    "train_dataset = tf.data.Dataset.from_tensor_slices((x_train, y_train))\n",
    "train_dataset = (\n",
    "    train_dataset\n",
    "    .batch(batch_size)\n",
    "    .prefetch(buffer_size=tf.data.AUTOTUNE)\n",
    ")\n",
    "\n",
    "validation_dataset = tf.data.Dataset.from_tensor_slices((x_valid, y_valid))\n",
    "validation_dataset = (\n",
    "    validation_dataset\n",
    "    .batch(batch_size)\n",
    "    .prefetch(buffer_size=tf.data.AUTOTUNE)\n",
    ")\n"
   ]
  },
  {
   "cell_type": "code",
   "execution_count": 250,
   "metadata": {},
   "outputs": [
    {
     "name": "stdout",
     "output_type": "stream",
     "text": [
      "Model: \"sequential_89\"\n",
      "_________________________________________________________________\n",
      " Layer (type)                Output Shape              Param #   \n",
      "=================================================================\n",
      " dense_238 (Dense)           (None, 500)               6500      \n",
      "                                                                 \n",
      " dense_239 (Dense)           (None, 250)               125250    \n",
      "                                                                 \n",
      " dense_240 (Dense)           (None, 125)               31375     \n",
      "                                                                 \n",
      " dense_241 (Dense)           (None, 62)                7812      \n",
      "                                                                 \n",
      " dense_242 (Dense)           (None, 1)                 63        \n",
      "                                                                 \n",
      "=================================================================\n",
      "Total params: 171,000\n",
      "Trainable params: 171,000\n",
      "Non-trainable params: 0\n",
      "_________________________________________________________________\n"
     ]
    }
   ],
   "source": [
    "def build_model():\n",
    "    model = keras.Sequential()\n",
    "    model.add(layers.Dense(units=500, input_dim=12,\n",
    "          kernel_initializer='he_normal', activation='softsign'))\n",
    "\n",
    "    model.add(layers.Dense(units=250, activation='softsign'))\n",
    "    model.add(layers.Dense(units=125, activation='softsign'))\n",
    "    model.add(layers.Dense(units=62, activation='softsign'))\n",
    "    model.add(layers.Dense(units=1, activation=\"softsign\"))\n",
    "\n",
    "    # Compile the model\n",
    "    model.compile(optimizer=keras.optimizers.Adam(learning_rate=0.001),\n",
    "                  loss='mean_squared_error',\n",
    "                  metrics=['accuracy'])\n",
    "    return model\n",
    "\n",
    "model = build_model()\n",
    "model.summary()"
   ]
  },
  {
   "cell_type": "code",
   "execution_count": 251,
   "metadata": {},
   "outputs": [
    {
     "name": "stdout",
     "output_type": "stream",
     "text": [
      "Epoch 1/100\n",
      "479/479 [==============================] - 2s 4ms/step - loss: 0.1707 - accuracy: 0.7818 - val_loss: 0.1710 - val_accuracy: 0.7787\n",
      "Epoch 2/100\n",
      "479/479 [==============================] - 2s 3ms/step - loss: 0.1675 - accuracy: 0.7884 - val_loss: 0.1706 - val_accuracy: 0.7787\n",
      "Epoch 3/100\n",
      "479/479 [==============================] - 2s 3ms/step - loss: 0.1671 - accuracy: 0.7884 - val_loss: 0.1705 - val_accuracy: 0.7787\n",
      "Epoch 4/100\n",
      "479/479 [==============================] - 2s 3ms/step - loss: 0.1668 - accuracy: 0.7884 - val_loss: 0.1703 - val_accuracy: 0.7787\n",
      "Epoch 5/100\n",
      "479/479 [==============================] - 2s 3ms/step - loss: 0.1666 - accuracy: 0.7884 - val_loss: 0.1700 - val_accuracy: 0.7787\n",
      "Epoch 6/100\n",
      "479/479 [==============================] - 2s 4ms/step - loss: 0.1666 - accuracy: 0.7884 - val_loss: 0.1701 - val_accuracy: 0.7787\n",
      "Epoch 7/100\n",
      "479/479 [==============================] - 2s 4ms/step - loss: 0.1665 - accuracy: 0.7884 - val_loss: 0.1701 - val_accuracy: 0.7787\n",
      "Epoch 8/100\n",
      "479/479 [==============================] - 2s 4ms/step - loss: 0.1664 - accuracy: 0.7884 - val_loss: 0.1702 - val_accuracy: 0.7787\n",
      "Epoch 9/100\n",
      "479/479 [==============================] - 2s 4ms/step - loss: 0.1664 - accuracy: 0.7884 - val_loss: 0.1700 - val_accuracy: 0.7787\n",
      "Epoch 10/100\n",
      "479/479 [==============================] - 2s 4ms/step - loss: 0.1664 - accuracy: 0.7884 - val_loss: 0.1699 - val_accuracy: 0.7787\n",
      "Epoch 11/100\n",
      "479/479 [==============================] - 2s 4ms/step - loss: 0.1663 - accuracy: 0.7884 - val_loss: 0.1701 - val_accuracy: 0.7787\n",
      "Epoch 12/100\n",
      "479/479 [==============================] - 2s 4ms/step - loss: 0.1663 - accuracy: 0.7884 - val_loss: 0.1699 - val_accuracy: 0.7787\n",
      "Epoch 13/100\n",
      "479/479 [==============================] - 2s 4ms/step - loss: 0.1663 - accuracy: 0.7884 - val_loss: 0.1700 - val_accuracy: 0.7787\n",
      "Epoch 14/100\n",
      "479/479 [==============================] - 2s 4ms/step - loss: 0.1662 - accuracy: 0.7884 - val_loss: 0.1701 - val_accuracy: 0.7787\n",
      "Epoch 15/100\n",
      "479/479 [==============================] - 2s 4ms/step - loss: 0.1661 - accuracy: 0.7884 - val_loss: 0.1698 - val_accuracy: 0.7787\n",
      "Epoch 16/100\n",
      "479/479 [==============================] - 2s 5ms/step - loss: 0.1661 - accuracy: 0.7884 - val_loss: 0.1700 - val_accuracy: 0.7787\n",
      "Epoch 17/100\n",
      "479/479 [==============================] - 2s 4ms/step - loss: 0.1661 - accuracy: 0.7884 - val_loss: 0.1698 - val_accuracy: 0.7787\n",
      "Epoch 18/100\n",
      "479/479 [==============================] - 2s 4ms/step - loss: 0.1661 - accuracy: 0.7884 - val_loss: 0.1696 - val_accuracy: 0.7787\n",
      "Epoch 19/100\n",
      "479/479 [==============================] - 2s 4ms/step - loss: 0.1661 - accuracy: 0.7884 - val_loss: 0.1696 - val_accuracy: 0.7787\n",
      "Epoch 20/100\n",
      "479/479 [==============================] - 2s 4ms/step - loss: 0.1660 - accuracy: 0.7884 - val_loss: 0.1696 - val_accuracy: 0.7787\n",
      "Epoch 21/100\n",
      "479/479 [==============================] - 2s 4ms/step - loss: 0.1661 - accuracy: 0.7884 - val_loss: 0.1700 - val_accuracy: 0.7787\n",
      "Epoch 22/100\n",
      "479/479 [==============================] - 2s 4ms/step - loss: 0.1661 - accuracy: 0.7884 - val_loss: 0.1696 - val_accuracy: 0.7787\n",
      "Epoch 23/100\n",
      "479/479 [==============================] - 2s 4ms/step - loss: 0.1660 - accuracy: 0.7884 - val_loss: 0.1699 - val_accuracy: 0.7787\n",
      "Epoch 24/100\n",
      "479/479 [==============================] - 2s 4ms/step - loss: 0.1661 - accuracy: 0.7884 - val_loss: 0.1695 - val_accuracy: 0.7787\n",
      "Epoch 25/100\n",
      "479/479 [==============================] - 2s 4ms/step - loss: 0.1660 - accuracy: 0.7884 - val_loss: 0.1698 - val_accuracy: 0.7787\n",
      "Epoch 26/100\n",
      "479/479 [==============================] - 2s 4ms/step - loss: 0.1658 - accuracy: 0.7884 - val_loss: 0.1698 - val_accuracy: 0.7787\n",
      "Epoch 27/100\n",
      "479/479 [==============================] - 2s 4ms/step - loss: 0.1659 - accuracy: 0.7881 - val_loss: 0.1700 - val_accuracy: 0.7787\n",
      "Epoch 28/100\n",
      "479/479 [==============================] - 2s 4ms/step - loss: 0.1661 - accuracy: 0.7884 - val_loss: 0.1701 - val_accuracy: 0.7787\n",
      "Epoch 29/100\n",
      "479/479 [==============================] - 2s 4ms/step - loss: 0.1659 - accuracy: 0.7884 - val_loss: 0.1699 - val_accuracy: 0.7787\n",
      "Epoch 30/100\n",
      "479/479 [==============================] - 2s 4ms/step - loss: 0.1659 - accuracy: 0.7884 - val_loss: 0.1697 - val_accuracy: 0.7787\n",
      "Epoch 31/100\n",
      "479/479 [==============================] - 2s 4ms/step - loss: 0.1659 - accuracy: 0.7884 - val_loss: 0.1695 - val_accuracy: 0.7787\n",
      "Epoch 32/100\n",
      "479/479 [==============================] - 2s 4ms/step - loss: 0.1659 - accuracy: 0.7884 - val_loss: 0.1697 - val_accuracy: 0.7787\n",
      "Epoch 33/100\n",
      "479/479 [==============================] - 2s 4ms/step - loss: 0.1657 - accuracy: 0.7884 - val_loss: 0.1696 - val_accuracy: 0.7787\n",
      "Epoch 34/100\n",
      "479/479 [==============================] - 2s 4ms/step - loss: 0.1658 - accuracy: 0.7884 - val_loss: 0.1697 - val_accuracy: 0.7787\n"
     ]
    }
   ],
   "source": [
    "epochs = 100\n",
    "early_stopping_patience = 10\n",
    "# Add early stopping\n",
    "early_stopping = keras.callbacks.EarlyStopping(\n",
    "    monitor=\"val_loss\", patience=early_stopping_patience, restore_best_weights=True\n",
    ")\n",
    "# Train the model\n",
    "history = model.fit(\n",
    "    train_dataset,\n",
    "    validation_data=validation_dataset,\n",
    "    epochs=epochs,\n",
    "    callbacks=[early_stopping],\n",
    ")"
   ]
  },
  {
   "cell_type": "code",
   "execution_count": 253,
   "metadata": {},
   "outputs": [
    {
     "name": "stdout",
     "output_type": "stream",
     "text": [
      "650/650 [==============================] - 1s 1ms/step\n",
      "          id   failure\n",
      "0      26570  0.257283\n",
      "1      26571  0.257393\n",
      "2      26572  0.247772\n",
      "3      26573  0.249827\n",
      "4      26574  0.314535\n",
      "...      ...       ...\n",
      "20770  47340  0.256066\n",
      "20771  47341  0.188339\n",
      "20772  47342  0.158342\n",
      "20773  47343  0.221618\n",
      "20774  47344  0.195976\n",
      "\n",
      "[20775 rows x 2 columns]\n"
     ]
    }
   ],
   "source": [
    "y_pred = model.predict(test.values.tolist())\n",
    "y_pred = np.array(y_pred)\n",
    "y_pred = pd.DataFrame(y_pred, columns= [\"failure\"])\n",
    "submission = pd.read_csv(\"data/sample_submission.csv\")\n",
    "sub = pd.DataFrame({'id': submission.id, 'failure': y_pred.failure})\n",
    "print(sub)\n",
    "sub.to_csv(\"submission.csv\", index=False)\n"
   ]
  },
  {
   "cell_type": "code",
   "execution_count": 254,
   "metadata": {},
   "outputs": [
    {
     "data": {
      "text/plain": [
       "<AxesSubplot:>"
      ]
     },
     "execution_count": 254,
     "metadata": {},
     "output_type": "execute_result"
    },
    {
     "data": {
      "image/png": "[encoded data removed]",
      "text/plain": [
       "<Figure size 640x480 with 1 Axes>"
      ]
     },
     "metadata": {},
     "output_type": "display_data"
    }
   ],
   "source": [
    "y = pd.DataFrame(y_pred)\n",
    "y.boxplot()"
   ]
  }
 ],
 "metadata": {
  "kernelspec": {
   "display_name": "Python 3",
   "language": "python",
   "name": "python3"
  },
  "language_info": {
   "codemirror_mode": {
    "name": "ipython",
    "version": 3
   },
   "file_extension": ".py",
   "mimetype": "text/x-python",
   "name": "python",
   "nbconvert_exporter": "python",
   "pygments_lexer": "ipython3",
   "version": "3.8.7"
  },
  "orig_nbformat": 4,
  "vscode": {
   "interpreter": {
    "hash": "42853c9b550c4f018502b71a662999c8db262c0156bdada178a564976c566b29"
   }
  }
 },
 "nbformat": 4,
 "nbformat_minor": 2
}
