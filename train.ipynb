{
 "cells": [
  {
   "cell_type": "code",
   "execution_count": 126,
   "metadata": {},
   "outputs": [],
   "source": [
    "import tensorflow as tf\n",
    "from tensorflow import keras\n",
    "from keras import layers"
   ]
  },
  {
   "cell_type": "code",
   "execution_count": 127,
   "metadata": {},
   "outputs": [],
   "source": [
    "import numpy as np\n",
    "import pandas as pd\n",
    "import os\n",
    "import matplotlib.pyplot as plt"
   ]
  },
  {
   "cell_type": "code",
   "execution_count": 128,
   "metadata": {},
   "outputs": [],
   "source": [
    "# Read file to pd dataframe\n",
    "train = pd.read_csv(\"data/train.csv\")\n",
    "test = pd.read_csv(\"data/test.csv\")\n",
    "# Get rid of \"id\" and \"product_code\"\n",
    "train = train.iloc[:train.shape[0], 2:train.shape[1]]\n",
    "test = test.iloc[:test.shape[0], 2:test.shape[1]]"
   ]
  },
  {
   "cell_type": "code",
   "execution_count": 129,
   "metadata": {},
   "outputs": [],
   "source": [
    "# Map the value in attribute_0 and attribute_1\n",
    "attribute_0 = {\"material_5\": \"0\", \"material_7\": \"1\"}\n",
    "attribute_1 = {\"material_5\": \"0\", \"material_6\": \"1\",\n",
    "               \"material_7\": \"2\", \"material_8\": \"3\"}\n",
    "# Replace the value in attribute_0 and attribute_1\n",
    "train = train.replace({\"attribute_0\": attribute_0})\n",
    "train = train.replace({\"attribute_1\": attribute_1})\n",
    "test = test.replace({\"attribute_0\": attribute_0})\n",
    "test = test.replace({\"attribute_1\": attribute_1})\n",
    "# Change the column type from obejct to int\n",
    "train[\"attribute_0\"] = train[\"attribute_0\"].astype(int)\n",
    "train[\"attribute_1\"] = train[\"attribute_1\"].astype(int)\n",
    "test[\"attribute_0\"] = test[\"attribute_0\"].astype(int)\n",
    "test[\"attribute_1\"] = test[\"attribute_1\"].astype(int)"
   ]
  },
  {
   "cell_type": "code",
   "execution_count": 130,
   "metadata": {},
   "outputs": [],
   "source": [
    "# Fill the Nan value with the average\n",
    "for i in train.columns:\n",
    "    null_cols=train[train[i].isna()].index\n",
    "    for n in null_cols:\n",
    "        train.loc[n,i]=train[i].mean()\n",
    "for i in test.columns:\n",
    "    null_cols = test[test[i].isna()].index\n",
    "    for n in null_cols:\n",
    "        test.loc[n,i]=test[i].mean()"
   ]
  },
  {
   "cell_type": "code",
   "execution_count": 131,
   "metadata": {},
   "outputs": [],
   "source": [
    "# Apply feature engineering from reference in discussion\n",
    "# Multiply length dimensions to get area. attributes 2 and 3 look like they are width and length dimensions or similar.\n",
    "# Aggregate measurement_3 to 16 into average and stdev. They look like they belong to the same group.\n",
    "def mean_3_to_16(row):\n",
    "    return row.iloc[9:20].mean()\n",
    "\n",
    "def std_3_to_16(row):\n",
    "    return row.iloc[9:20].std()\n",
    "\n",
    "def attri_multi(row):\n",
    "    return row.iloc[3] * row.iloc[4]\n",
    "\n",
    "train[\"measurement_std\"] = train.apply(lambda row : std_3_to_16(row), axis = 1)\n",
    "train['measurement_mean'] = train.apply(lambda row : mean_3_to_16(row), axis = 1)\n",
    "train['attri_2_attri_3'] = train.apply(lambda row : attri_multi(row), axis = 1)\n",
    "remain_col = [\"loading\", \"attribute_0\", \"attribute_1\", \"attri_2_attri_3\", \"measurement_0\",\n",
    "              \"measurement_1\", \"measurement_2\", \"measurement_17\", \"measurement_mean\", \"measurement_std\", \"failure\"]\n",
    "train = train[remain_col]\n",
    "\n",
    "test[\"measurement_std\"] = test.apply(lambda row: std_3_to_16(row), axis=1)\n",
    "test['measurement_mean'] = test.apply(lambda row: mean_3_to_16(row), axis=1)\n",
    "test['attri_2_attri_3'] = test.apply(lambda row: attri_multi(row), axis=1)\n",
    "remain_col = [\"loading\", \"attribute_0\", \"attribute_1\", \"attri_2_attri_3\", \"measurement_0\",\n",
    "              \"measurement_1\", \"measurement_2\", \"measurement_17\", \"measurement_mean\", \"measurement_std\"]\n",
    "test =test[remain_col]"
   ]
  },
  {
   "cell_type": "code",
   "execution_count": 141,
   "metadata": {},
   "outputs": [],
   "source": [
    "# Split the feature and target\n",
    "train_x = train.iloc[:train.shape[0] , :train.shape[1] - 1].values\n",
    "train_y = train.iloc[:train.shape[0], train.shape[1] - 1:].values"
   ]
  },
  {
   "cell_type": "code",
   "execution_count": 142,
   "metadata": {},
   "outputs": [
    {
     "data": {
      "text/plain": [
       "(26570, 10)"
      ]
     },
     "execution_count": 142,
     "metadata": {},
     "output_type": "execute_result"
    }
   ],
   "source": [
    "train_x.shape"
   ]
  },
  {
   "cell_type": "code",
   "execution_count": 137,
   "metadata": {},
   "outputs": [],
   "source": [
    "from scikeras.wrappers import KerasClassifier\n",
    "from sklearn.model_selection import cross_val_score\n",
    "from sklearn.preprocessing import LabelEncoder\n",
    "from sklearn.model_selection import StratifiedKFold\n",
    "from sklearn.preprocessing import StandardScaler\n",
    "from sklearn.pipeline import Pipeline"
   ]
  },
  {
   "cell_type": "code",
   "execution_count": 189,
   "metadata": {},
   "outputs": [
    {
     "name": "stdout",
     "output_type": "stream",
     "text": [
      "Acc: 78.65% (0.13%)\n"
     ]
    }
   ],
   "source": [
    "def build_model():\n",
    "    model = keras.models.Sequential()\n",
    "    model.add(layers.Dense(50, activation='relu', input_shape = (10,)))\n",
    "    model.add(layers.Dropout(0.2))\n",
    "    model.add(layers.Dense(50, activation='relu'))\n",
    "    model.add(layers.Dropout(0.2))\n",
    "    model.add(layers.Dense(1, activation='sigmoid'))\n",
    "    # Compile the model\n",
    "    model.compile(optimizer='adam',\n",
    "                  loss='binary_crossentropy',\n",
    "                metrics=['accuracy'])\n",
    "    return model\n",
    "estimator = []\n",
    "estimator.append(('standardize', StandardScaler()))\n",
    "estimator.append(('mlp', KerasClassifier(\n",
    "    model=build_model, epochs=100, batch_size=16, verbose=0)))\n",
    "pipeline = Pipeline(estimator)\n",
    "kfold = StratifiedKFold(n_splits=10, shuffle=True)\n",
    "results = cross_val_score(pipeline, train_x, train_y, cv=kfold)\n",
    "print(\"Acc: %.2f%% (%.2f%%)\" % (results.mean()*100, results.std()*100))\n"
   ]
  },
  {
   "cell_type": "code",
   "execution_count": 190,
   "metadata": {},
   "outputs": [
    {
     "data": {
      "text/html": [
       "<style>#sk-container-id-4 {color: black;background-color: white;}#sk-container-id-4 pre{padding: 0;}#sk-container-id-4 div.sk-toggleable {background-color: white;}#sk-container-id-4 label.sk-toggleable__label {cursor: pointer;display: block;width: 100%;margin-bottom: 0;padding: 0.3em;box-sizing: border-box;text-align: center;}#sk-container-id-4 label.sk-toggleable__label-arrow:before {content: \"▸\";float: left;margin-right: 0.25em;color: #696969;}#sk-container-id-4 label.sk-toggleable__label-arrow:hover:before {color: black;}#sk-container-id-4 div.sk-estimator:hover label.sk-toggleable__label-arrow:before {color: black;}#sk-container-id-4 div.sk-toggleable__content {max-height: 0;max-width: 0;overflow: hidden;text-align: left;background-color: #f0f8ff;}#sk-container-id-4 div.sk-toggleable__content pre {margin: 0.2em;color: black;border-radius: 0.25em;background-color: #f0f8ff;}#sk-container-id-4 input.sk-toggleable__control:checked~div.sk-toggleable__content {max-height: 200px;max-width: 100%;overflow: auto;}#sk-container-id-4 input.sk-toggleable__control:checked~label.sk-toggleable__label-arrow:before {content: \"▾\";}#sk-container-id-4 div.sk-estimator input.sk-toggleable__control:checked~label.sk-toggleable__label {background-color: #d4ebff;}#sk-container-id-4 div.sk-label input.sk-toggleable__control:checked~label.sk-toggleable__label {background-color: #d4ebff;}#sk-container-id-4 input.sk-hidden--visually {border: 0;clip: rect(1px 1px 1px 1px);clip: rect(1px, 1px, 1px, 1px);height: 1px;margin: -1px;overflow: hidden;padding: 0;position: absolute;width: 1px;}#sk-container-id-4 div.sk-estimator {font-family: monospace;background-color: #f0f8ff;border: 1px dotted black;border-radius: 0.25em;box-sizing: border-box;margin-bottom: 0.5em;}#sk-container-id-4 div.sk-estimator:hover {background-color: #d4ebff;}#sk-container-id-4 div.sk-parallel-item::after {content: \"\";width: 100%;border-bottom: 1px solid gray;flex-grow: 1;}#sk-container-id-4 div.sk-label:hover label.sk-toggleable__label {background-color: #d4ebff;}#sk-container-id-4 div.sk-serial::before {content: \"\";position: absolute;border-left: 1px solid gray;box-sizing: border-box;top: 0;bottom: 0;left: 50%;z-index: 0;}#sk-container-id-4 div.sk-serial {display: flex;flex-direction: column;align-items: center;background-color: white;padding-right: 0.2em;padding-left: 0.2em;position: relative;}#sk-container-id-4 div.sk-item {position: relative;z-index: 1;}#sk-container-id-4 div.sk-parallel {display: flex;align-items: stretch;justify-content: center;background-color: white;position: relative;}#sk-container-id-4 div.sk-item::before, #sk-container-id-4 div.sk-parallel-item::before {content: \"\";position: absolute;border-left: 1px solid gray;box-sizing: border-box;top: 0;bottom: 0;left: 50%;z-index: -1;}#sk-container-id-4 div.sk-parallel-item {display: flex;flex-direction: column;z-index: 1;position: relative;background-color: white;}#sk-container-id-4 div.sk-parallel-item:first-child::after {align-self: flex-end;width: 50%;}#sk-container-id-4 div.sk-parallel-item:last-child::after {align-self: flex-start;width: 50%;}#sk-container-id-4 div.sk-parallel-item:only-child::after {width: 0;}#sk-container-id-4 div.sk-dashed-wrapped {border: 1px dashed gray;margin: 0 0.4em 0.5em 0.4em;box-sizing: border-box;padding-bottom: 0.4em;background-color: white;}#sk-container-id-4 div.sk-label label {font-family: monospace;font-weight: bold;display: inline-block;line-height: 1.2em;}#sk-container-id-4 div.sk-label-container {text-align: center;}#sk-container-id-4 div.sk-container {/* jupyter's `normalize.less` sets `[hidden] { display: none; }` but bootstrap.min.css set `[hidden] { display: none !important; }` so we also need the `!important` here to be able to override the default hidden behavior on the sphinx rendered scikit-learn.org. See: https://github.com/scikit-learn/scikit-learn/issues/21755 */display: inline-block !important;position: relative;}#sk-container-id-4 div.sk-text-repr-fallback {display: none;}</style><div id=\"sk-container-id-4\" class=\"sk-top-container\"><div class=\"sk-text-repr-fallback\"><pre>Pipeline(steps=[(&#x27;standardize&#x27;, StandardScaler()),\n",
       "                (&#x27;mlp&#x27;,\n",
       "                 KerasClassifier(batch_size=16, epochs=100, model=&lt;function build_model at 0x000002192657B9D0&gt;, verbose=0))])</pre><b>In a Jupyter environment, please rerun this cell to show the HTML representation or trust the notebook. <br />On GitHub, the HTML representation is unable to render, please try loading this page with nbviewer.org.</b></div><div class=\"sk-container\" hidden><div class=\"sk-item sk-dashed-wrapped\"><div class=\"sk-label-container\"><div class=\"sk-label sk-toggleable\"><input class=\"sk-toggleable__control sk-hidden--visually\" id=\"sk-estimator-id-6\" type=\"checkbox\" ><label for=\"sk-estimator-id-6\" class=\"sk-toggleable__label sk-toggleable__label-arrow\">Pipeline</label><div class=\"sk-toggleable__content\"><pre>Pipeline(steps=[(&#x27;standardize&#x27;, StandardScaler()),\n",
       "                (&#x27;mlp&#x27;,\n",
       "                 KerasClassifier(batch_size=16, epochs=100, model=&lt;function build_model at 0x000002192657B9D0&gt;, verbose=0))])</pre></div></div></div><div class=\"sk-serial\"><div class=\"sk-item\"><div class=\"sk-estimator sk-toggleable\"><input class=\"sk-toggleable__control sk-hidden--visually\" id=\"sk-estimator-id-7\" type=\"checkbox\" ><label for=\"sk-estimator-id-7\" class=\"sk-toggleable__label sk-toggleable__label-arrow\">StandardScaler</label><div class=\"sk-toggleable__content\"><pre>StandardScaler()</pre></div></div></div><div class=\"sk-item\"><div class=\"sk-estimator sk-toggleable\"><input class=\"sk-toggleable__control sk-hidden--visually\" id=\"sk-estimator-id-8\" type=\"checkbox\" ><label for=\"sk-estimator-id-8\" class=\"sk-toggleable__label sk-toggleable__label-arrow\">KerasClassifier</label><div class=\"sk-toggleable__content\"><pre>KerasClassifier(\n",
       "\tmodel=&lt;function build_model at 0x000002192657B9D0&gt;\n",
       "\tbuild_fn=None\n",
       "\twarm_start=False\n",
       "\trandom_state=None\n",
       "\toptimizer=rmsprop\n",
       "\tloss=None\n",
       "\tmetrics=None\n",
       "\tbatch_size=16\n",
       "\tvalidation_batch_size=None\n",
       "\tverbose=0\n",
       "\tcallbacks=None\n",
       "\tvalidation_split=0.0\n",
       "\tshuffle=True\n",
       "\trun_eagerly=False\n",
       "\tepochs=100\n",
       "\tclass_weight=None\n",
       ")</pre></div></div></div></div></div></div></div>"
      ],
      "text/plain": [
       "Pipeline(steps=[('standardize', StandardScaler()),\n",
       "                ('mlp',\n",
       "                 KerasClassifier(batch_size=16, epochs=100, model=<function build_model at 0x000002192657B9D0>, verbose=0))])"
      ]
     },
     "execution_count": 190,
     "metadata": {},
     "output_type": "execute_result"
    }
   ],
   "source": [
    "pipeline.fit(train_x, train_y)"
   ]
  },
  {
   "cell_type": "code",
   "execution_count": 162,
   "metadata": {},
   "outputs": [
    {
     "name": "stdout",
     "output_type": "stream",
     "text": [
      "(20775, 10)\n"
     ]
    }
   ],
   "source": [
    "print(test.values.shape)"
   ]
  },
  {
   "cell_type": "code",
   "execution_count": 175,
   "metadata": {},
   "outputs": [
    {
     "name": "stdout",
     "output_type": "stream",
     "text": [
      "          id  failure\n",
      "0      26570        0\n",
      "1      26571        0\n",
      "2      26572        0\n",
      "3      26573        0\n",
      "4      26574        0\n",
      "...      ...      ...\n",
      "20770  47340        0\n",
      "20771  47341        0\n",
      "20772  47342        0\n",
      "20773  47343        0\n",
      "20774  47344        0\n",
      "\n",
      "[20775 rows x 2 columns]\n"
     ]
    }
   ],
   "source": [
    "y_pred = pipeline.predict(test.values)\n",
    "y_pred = np.array(y_pred)\n",
    "y_pred = pd.DataFrame(y_pred, columns= [\"failure\"])\n",
    "submission = pd.read_csv(\"data/sample_submission.csv\")\n",
    "sub = pd.DataFrame({'id': submission.id, 'failure': y_pred.failure})\n",
    "print(sub)\n",
    "sub.to_csv(\"submission.csv\", index=False)\n"
   ]
  }
 ],
 "metadata": {
  "kernelspec": {
   "display_name": "Python 3",
   "language": "python",
   "name": "python3"
  },
  "language_info": {
   "codemirror_mode": {
    "name": "ipython",
    "version": 3
   },
   "file_extension": ".py",
   "mimetype": "text/x-python",
   "name": "python",
   "nbconvert_exporter": "python",
   "pygments_lexer": "ipython3",
   "version": "3.8.7"
  },
  "orig_nbformat": 4,
  "vscode": {
   "interpreter": {
    "hash": "42853c9b550c4f018502b71a662999c8db262c0156bdada178a564976c566b29"
   }
  }
 },
 "nbformat": 4,
 "nbformat_minor": 2
}
