{
 "cells": [
  {
   "cell_type": "code",
   "execution_count": 191,
   "metadata": {},
   "outputs": [],
   "source": [
    "import tensorflow as tf\n",
    "from tensorflow import keras\n",
    "from keras import layers"
   ]
  },
  {
   "cell_type": "code",
   "execution_count": 192,
   "metadata": {},
   "outputs": [],
   "source": [
    "import numpy as np\n",
    "import pandas as pd\n",
    "import os\n",
    "import matplotlib.pyplot as plt"
   ]
  },
  {
   "cell_type": "code",
   "execution_count": 193,
   "metadata": {},
   "outputs": [],
   "source": [
    "# Read file to pd dataframe\n",
    "train = pd.read_csv(\"data/train.csv\")\n",
    "test = pd.read_csv(\"data/test.csv\")\n",
    "# Get rid of \"id\" and \"product_code\"\n",
    "train = train.iloc[:train.shape[0], 2:train.shape[1]]\n",
    "test = test.iloc[:test.shape[0], 2:test.shape[1]]\n",
    "# Shuffle the training data\n",
    "train = train.reindex(np.random.permutation(train.index))"
   ]
  },
  {
   "cell_type": "code",
   "execution_count": 194,
   "metadata": {},
   "outputs": [],
   "source": [
    "# Map the value in attribute_0 and attribute_1\n",
    "attribute_0 = {\"material_5\": \"0\", \"material_7\": \"1\"}\n",
    "attribute_1 = {\"material_5\": \"0\", \"material_6\": \"1\",\n",
    "               \"material_7\": \"2\", \"material_8\": \"3\"}\n",
    "# Replace the value in attribute_0 and attribute_1\n",
    "train = train.replace({\"attribute_0\": attribute_0})\n",
    "train = train.replace({\"attribute_1\": attribute_1})\n",
    "test = test.replace({\"attribute_0\": attribute_0})\n",
    "test = test.replace({\"attribute_1\": attribute_1})\n",
    "# Change the column type from obejct to int\n",
    "train[\"attribute_0\"] = train[\"attribute_0\"].astype(int)\n",
    "train[\"attribute_1\"] = train[\"attribute_1\"].astype(int)\n",
    "test[\"attribute_0\"] = test[\"attribute_0\"].astype(int)\n",
    "test[\"attribute_1\"] = test[\"attribute_1\"].astype(int)"
   ]
  },
  {
   "cell_type": "code",
   "execution_count": 195,
   "metadata": {},
   "outputs": [],
   "source": [
    "# Fill the Nan value with the average\n",
    "for i in train.columns:\n",
    "    null_cols=train[train[i].isna()].index\n",
    "    for n in null_cols:\n",
    "        train.loc[n,i]=train[i].mean()\n",
    "for i in test.columns:\n",
    "    null_cols = test[test[i].isna()].index\n",
    "    for n in null_cols:\n",
    "        test.loc[n,i]=test[i].mean()"
   ]
  },
  {
   "cell_type": "code",
   "execution_count": 196,
   "metadata": {},
   "outputs": [],
   "source": [
    "# Apply feature engineering from reference in discussion\n",
    "# Multiply length dimensions to get area. attributes 2 and 3 look like they are width and length dimensions or similar.\n",
    "# Aggregate measurement_3 to 16 into average and stdev. They look like they belong to the same group.\n",
    "def mean_3_to_16(row):\n",
    "    return row.iloc[9:20].mean()\n",
    "\n",
    "def std_3_to_16(row):\n",
    "    return row.iloc[9:20].std()\n",
    "\n",
    "def attri_multi(row):\n",
    "    return row.iloc[3] * row.iloc[4]\n",
    "\n",
    "train[\"measurement_std\"] = train.apply(lambda row : std_3_to_16(row), axis = 1)\n",
    "train['measurement_mean'] = train.apply(lambda row : mean_3_to_16(row), axis = 1)\n",
    "train['attri_2_attri_3'] = train.apply(lambda row : attri_multi(row), axis = 1)\n",
    "remain_col = [\"loading\", \"attribute_0\", \"attribute_1\", \"attri_2_attri_3\", \"measurement_0\",\n",
    "              \"measurement_1\", \"measurement_2\", \"measurement_17\", \"measurement_mean\", \"measurement_std\", \"failure\"]\n",
    "train = train[remain_col]\n",
    "\n",
    "test[\"measurement_std\"] = test.apply(lambda row: std_3_to_16(row), axis=1)\n",
    "test['measurement_mean'] = test.apply(lambda row: mean_3_to_16(row), axis=1)\n",
    "test['attri_2_attri_3'] = test.apply(lambda row: attri_multi(row), axis=1)\n",
    "remain_col = [\"loading\", \"attribute_0\", \"attribute_1\", \"attri_2_attri_3\", \"measurement_0\",\n",
    "              \"measurement_1\", \"measurement_2\", \"measurement_17\", \"measurement_mean\", \"measurement_std\"]\n",
    "test =test[remain_col]"
   ]
  },
  {
   "cell_type": "code",
   "execution_count": 212,
   "metadata": {},
   "outputs": [],
   "source": [
    "# Split the feature and target, also into training data and validation data\n",
    "train_size = 0.9\n",
    "x_train = train.iloc[:int(train.shape[0] *train_size), :train.shape[1] - 1].values\n",
    "y_train = train.iloc[:int(train.shape[0] *train_size), train.shape[1] - 1:].values\n",
    "x_valid = train.iloc[int(train.shape[0] * train_size):, :train.shape[1] - 1].values\n",
    "y_valid = train.iloc[int(train.shape[0] * train_size):, train.shape[1] - 1:].values"
   ]
  },
  {
   "cell_type": "code",
   "execution_count": 213,
   "metadata": {},
   "outputs": [],
   "source": [
    "def encode_single_sample(features, label):\n",
    "    features = np.reshape(features, (10,))\n",
    "    return {\"features\": features, \"label\": label}\n",
    "\n",
    "batch_size = 16\n",
    "train_dataset = tf.data.Dataset.from_tensor_slices((x_train, y_train))\n",
    "train_dataset = (\n",
    "    train_dataset\n",
    "    .batch(batch_size)\n",
    "    .prefetch(buffer_size=tf.data.AUTOTUNE)\n",
    ")\n",
    "\n",
    "validation_dataset = tf.data.Dataset.from_tensor_slices((x_valid, y_valid))\n",
    "validation_dataset = (\n",
    "    validation_dataset\n",
    "    .batch(batch_size)\n",
    "    .prefetch(buffer_size=tf.data.AUTOTUNE)\n",
    ")\n"
   ]
  },
  {
   "cell_type": "code",
   "execution_count": null,
   "metadata": {},
   "outputs": [],
   "source": []
  },
  {
   "cell_type": "code",
   "execution_count": 220,
   "metadata": {},
   "outputs": [
    {
     "name": "stdout",
     "output_type": "stream",
     "text": [
      "Model: \"sequential_85\"\n",
      "_________________________________________________________________\n",
      " Layer (type)                Output Shape              Param #   \n",
      "=================================================================\n",
      " flatten_2 (Flatten)         (None, 10)                0         \n",
      "                                                                 \n",
      " dense_219 (Dense)           (None, 128)               1408      \n",
      "                                                                 \n",
      " dropout_76 (Dropout)        (None, 128)               0         \n",
      "                                                                 \n",
      " dense_220 (Dense)           (None, 64)                8256      \n",
      "                                                                 \n",
      " dense_221 (Dense)           (None, 32)                2080      \n",
      "                                                                 \n",
      " dense_222 (Dense)           (None, 1)                 33        \n",
      "                                                                 \n",
      "=================================================================\n",
      "Total params: 11,777\n",
      "Trainable params: 11,777\n",
      "Non-trainable params: 0\n",
      "_________________________________________________________________\n"
     ]
    }
   ],
   "source": [
    "def build_model():\n",
    "    model = keras.models.Sequential()\n",
    "    model.add(layers.Flatten(input_shape=(10,)),)\n",
    "    model.add(layers.Dense(128, activation='relu'))\n",
    "    model.add(layers.Dropout(0.2))\n",
    "    model.add(layers.Dense(64, activation='relu'))\n",
    "    model.add(layers.Dense(32, activation='relu'))\n",
    "    model.add(layers.Dense(1, activation='sigmoid'))\n",
    "    # Compile the model\n",
    "    model.compile(optimizer=keras.optimizers.Adam(),\n",
    "                  loss='binary_crossentropy',\n",
    "                  metrics=['accuracy'])\n",
    "    return model\n",
    "\n",
    "model = build_model()\n",
    "model.summary()"
   ]
  },
  {
   "cell_type": "code",
   "execution_count": 221,
   "metadata": {},
   "outputs": [
    {
     "name": "stdout",
     "output_type": "stream",
     "text": [
      "Epoch 1/100\n",
      "1495/1495 [==============================] - 3s 1ms/step - loss: 0.7968 - accuracy: 0.7437 - val_loss: 0.5629 - val_accuracy: 0.7779\n",
      "Epoch 2/100\n",
      "1495/1495 [==============================] - 2s 1ms/step - loss: 0.5378 - accuracy: 0.7860 - val_loss: 0.5319 - val_accuracy: 0.7779\n",
      "Epoch 3/100\n",
      "1495/1495 [==============================] - 2s 1ms/step - loss: 0.5272 - accuracy: 0.7880 - val_loss: 0.5300 - val_accuracy: 0.7779\n",
      "Epoch 4/100\n",
      "1495/1495 [==============================] - 2s 1ms/step - loss: 0.5214 - accuracy: 0.7884 - val_loss: 0.5307 - val_accuracy: 0.7779\n",
      "Epoch 5/100\n",
      "1495/1495 [==============================] - 2s 1ms/step - loss: 0.5180 - accuracy: 0.7884 - val_loss: 0.5274 - val_accuracy: 0.7779\n",
      "Epoch 6/100\n",
      "1495/1495 [==============================] - 2s 1ms/step - loss: 0.5162 - accuracy: 0.7883 - val_loss: 0.5280 - val_accuracy: 0.7779\n",
      "Epoch 7/100\n",
      "1495/1495 [==============================] - 2s 1ms/step - loss: 0.5140 - accuracy: 0.7883 - val_loss: 0.5264 - val_accuracy: 0.7779\n",
      "Epoch 8/100\n",
      "1495/1495 [==============================] - 2s 1ms/step - loss: 0.5133 - accuracy: 0.7884 - val_loss: 0.5270 - val_accuracy: 0.7779\n",
      "Epoch 9/100\n",
      "1495/1495 [==============================] - 2s 1ms/step - loss: 0.5132 - accuracy: 0.7883 - val_loss: 0.5267 - val_accuracy: 0.7779\n",
      "Epoch 10/100\n",
      "1495/1495 [==============================] - 2s 1ms/step - loss: 0.5121 - accuracy: 0.7884 - val_loss: 0.5238 - val_accuracy: 0.7779\n",
      "Epoch 11/100\n",
      "1495/1495 [==============================] - 2s 1ms/step - loss: 0.5120 - accuracy: 0.7885 - val_loss: 0.5304 - val_accuracy: 0.7779\n",
      "Epoch 12/100\n",
      "1495/1495 [==============================] - 2s 1ms/step - loss: 0.5131 - accuracy: 0.7884 - val_loss: 0.5274 - val_accuracy: 0.7779\n",
      "Epoch 13/100\n",
      "1495/1495 [==============================] - 2s 1ms/step - loss: 0.5120 - accuracy: 0.7883 - val_loss: 0.5275 - val_accuracy: 0.7779\n",
      "Epoch 14/100\n",
      "1495/1495 [==============================] - 2s 1ms/step - loss: 0.5121 - accuracy: 0.7884 - val_loss: 0.5253 - val_accuracy: 0.7779\n",
      "Epoch 15/100\n",
      "1495/1495 [==============================] - 2s 1ms/step - loss: 0.5116 - accuracy: 0.7885 - val_loss: 0.5254 - val_accuracy: 0.7779\n",
      "Epoch 16/100\n",
      "1495/1495 [==============================] - 2s 1ms/step - loss: 0.5121 - accuracy: 0.7885 - val_loss: 0.5238 - val_accuracy: 0.7779\n",
      "Epoch 17/100\n",
      "1495/1495 [==============================] - 2s 1ms/step - loss: 0.5113 - accuracy: 0.7884 - val_loss: 0.5253 - val_accuracy: 0.7779\n",
      "Epoch 18/100\n",
      "1495/1495 [==============================] - 2s 1ms/step - loss: 0.5112 - accuracy: 0.7884 - val_loss: 0.5256 - val_accuracy: 0.7779\n",
      "Epoch 19/100\n",
      "1495/1495 [==============================] - 3s 2ms/step - loss: 0.5112 - accuracy: 0.7884 - val_loss: 0.5266 - val_accuracy: 0.7779\n",
      "Epoch 20/100\n",
      "1495/1495 [==============================] - 2s 1ms/step - loss: 0.5108 - accuracy: 0.7884 - val_loss: 0.5263 - val_accuracy: 0.7779\n"
     ]
    }
   ],
   "source": [
    "epochs = 100\n",
    "early_stopping_patience = 10\n",
    "# Add early stopping\n",
    "early_stopping = keras.callbacks.EarlyStopping(\n",
    "    monitor=\"val_loss\", patience=early_stopping_patience, restore_best_weights=True\n",
    ")\n",
    "# Train the model\n",
    "history = model.fit(\n",
    "    train_dataset,\n",
    "    validation_data=validation_dataset,\n",
    "    epochs=epochs,\n",
    "    callbacks=[early_stopping],\n",
    ")"
   ]
  },
  {
   "cell_type": "code",
   "execution_count": 222,
   "metadata": {},
   "outputs": [
    {
     "name": "stdout",
     "output_type": "stream",
     "text": [
      "650/650 [==============================] - 1s 714us/step\n",
      "          id   failure\n",
      "0      26570  0.227007\n",
      "1      26571  0.232063\n",
      "2      26572  0.211579\n",
      "3      26573  0.219156\n",
      "4      26574  0.256153\n",
      "...      ...       ...\n",
      "20770  47340  0.230102\n",
      "20771  47341  0.186978\n",
      "20772  47342  0.181483\n",
      "20773  47343  0.193376\n",
      "20774  47344  0.188442\n",
      "\n",
      "[20775 rows x 2 columns]\n"
     ]
    }
   ],
   "source": [
    "y_pred = model.predict(test.values)\n",
    "y_pred = np.array(y_pred)\n",
    "y_pred = pd.DataFrame(y_pred, columns= [\"failure\"])\n",
    "submission = pd.read_csv(\"data/sample_submission.csv\")\n",
    "sub = pd.DataFrame({'id': submission.id, 'failure': y_pred.failure})\n",
    "print(sub)\n",
    "sub.to_csv(\"submission.csv\", index=False)\n"
   ]
  },
  {
   "cell_type": "code",
   "execution_count": 223,
   "metadata": {},
   "outputs": [
    {
     "data": {
      "text/plain": [
       "<AxesSubplot:>"
      ]
     },
     "execution_count": 223,
     "metadata": {},
     "output_type": "execute_result"
    },
    {
     "data": {
      "image/png": "[encoded data removed]",
      "text/plain": [
       "<Figure size 640x480 with 1 Axes>"
      ]
     },
     "metadata": {},
     "output_type": "display_data"
    }
   ],
   "source": [
    "y = pd.DataFrame(y_pred)\n",
    "y.boxplot()"
   ]
  }
 ],
 "metadata": {
  "kernelspec": {
   "display_name": "Python 3",
   "language": "python",
   "name": "python3"
  },
  "language_info": {
   "codemirror_mode": {
    "name": "ipython",
    "version": 3
   },
   "file_extension": ".py",
   "mimetype": "text/x-python",
   "name": "python",
   "nbconvert_exporter": "python",
   "pygments_lexer": "ipython3",
   "version": "3.8.7"
  },
  "orig_nbformat": 4,
  "vscode": {
   "interpreter": {
    "hash": "42853c9b550c4f018502b71a662999c8db262c0156bdada178a564976c566b29"
   }
  }
 },
 "nbformat": 4,
 "nbformat_minor": 2
}
